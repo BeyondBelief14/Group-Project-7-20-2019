{
 "cells": [
  {
   "cell_type": "code",
   "execution_count": null,
   "metadata": {},
   "outputs": [],
   "source": [
    "import pandas as pd\n",
    "import numpy as np\n",
    "import matplotlib as plt\n",
    "import requests\n",
    "import json\n",
    "\n",
    "# API Keys\n",
    "from config import gkey\n",
    "from config import api_key"
   ]
  },
  {
   "cell_type": "code",
   "execution_count": null,
   "metadata": {},
   "outputs": [],
   "source": [
    "#Google Places Types: https://developers.google.com/places/web-service/supported_types\n",
    "\n",
    "#TODO: Can we incorporate this list into the loop so this list can change without changing the code\n",
    "types = ['supermarket', 'bank']#, 'library', 'park', 'liquor_store', 'hospital']"
   ]
  },
  {
   "cell_type": "code",
   "execution_count": null,
   "metadata": {
    "scrolled": true
   },
   "outputs": [],
   "source": [
    "# Read in the Dallas County Appraisal District (DCAD) property values file\n",
    "\n",
    "file = \"Resources/dcad_combined-Copy1.csv\"\n",
    "\n",
    "#create DataFrame\n",
    "dcad_df = pd.read_csv(file, usecols=['PROPERTY_ZIPCODE', 'TOT_VAL'])\n",
    "dcad_df.head(5)"
   ]
  },
  {
   "cell_type": "code",
   "execution_count": null,
   "metadata": {},
   "outputs": [],
   "source": [
    "#add column for 5 digit zipcode\n",
    "dcad_df['ZIPCODE'] = dcad_df['PROPERTY_ZIPCODE'].astype(str).str[:5]"
   ]
  },
  {
   "cell_type": "code",
   "execution_count": null,
   "metadata": {},
   "outputs": [],
   "source": [
    "#Group Property Values by Zipcode\n",
    "zip_group = dcad_df.groupby('ZIPCODE')['TOT_VAL']\n",
    "\n",
    "zip_group = zip_group.mean().to_frame('TOT_VAL')\n",
    "\n",
    "#Sort the Zipcodes by propert values so we can easily get the top/bottom\n",
    "zip_group.sort_values(by='TOT_VAL', ascending=False, inplace=True)\n",
    "\n",
    "zip_group_df = zip_group.reset_index()"
   ]
  },
  {
   "cell_type": "code",
   "execution_count": null,
   "metadata": {},
   "outputs": [],
   "source": [
    "#Add columns to DataFrame to store business data\n",
    "zip_group_df['Lat'] = \"\" \n",
    "zip_group_df[\"Lng\"] = \"\"\n",
    "zip_group_df[\"City\"] = \"\"\n",
    "zip_group_df[\"State\"] = \"\"\n",
    "zip_group_df = zip_group_df.rename(columns={\"ZIPCODE\": \"Zipcode\")\n",
    "zip_group_df[\"MeanPropertyValue\"] = zip_group_df[\"TOT_VAL\"].map(\"${:,.0f}\".format)"
   ]
  },
  {
   "cell_type": "code",
   "execution_count": null,
   "metadata": {},
   "outputs": [],
   "source": [
    "#Preview 5 Zipcodes with highest values\n",
    "zip_group_df.head(5)"
   ]
  },
  {
   "cell_type": "code",
   "execution_count": null,
   "metadata": {},
   "outputs": [],
   "source": [
    "#Get 5 Zipcodes with lowest values\n",
    "zip_group_df.tail(5)"
   ]
  },
  {
   "cell_type": "code",
   "execution_count": null,
   "metadata": {},
   "outputs": [],
   "source": [
    "# create a params dict that will be updated with new zipcode each iteration\n",
    "params = {\"key\": gkey}\n",
    "\n",
    "# Loop through the zipcode pd's and run a lat/long search for each\n",
    "for index, row in zip_group_df.iterrows():\n",
    "    base_url = \"https://maps.googleapis.com/maps/api/geocode/json\"\n",
    "\n",
    "    zipcode = row['Zipcode']\n",
    "\n",
    "    # update address key value to zipcode\n",
    "    params['address'] = zipcode\n",
    "\n",
    "    # make request\n",
    "    zips_lat_lng = requests.get(base_url, params=params)\n",
    "    \n",
    "    # convert to json\n",
    "    zips_lat_lng = zips_lat_lng.json()\n",
    "    #print(json.dumps(zips_lat_lng, indent=4, sort_keys=True))\n",
    "    \n",
    "    #loop through address to find city\n",
    "    for i in zips_lat_lng['results'][0]['address_components']:\n",
    "        if i['types'][0] == 'locality':\n",
    "            zip_group_df.loc[index, \"City\"] = i['long_name']\n",
    "    \n",
    "    #loop though address to find state\n",
    "    for i in zips_lat_lng['results'][0]['address_components']:\n",
    "        if i['types'][0] == 'administrative_area_level_1':\n",
    "            zip_group_df.loc[index, \"State\"] = i['short_name']\n",
    "    zip_group_df.loc[index, \"Lat\"] = zips_lat_lng[\"results\"][0][\"geometry\"][\"location\"][\"lat\"]\n",
    "    zip_group_df.loc[index, \"Lng\"] = zips_lat_lng[\"results\"][0][\"geometry\"][\"location\"][\"lng\"]\n",
    "\n",
    "# Visualize to confirm lat lng appear\n",
    "zip_group_df"
   ]
  },
  {
   "cell_type": "code",
   "execution_count": null,
   "metadata": {
    "scrolled": true
   },
   "outputs": [],
   "source": [
    "# params dictionary to update each iteration\n",
    "for each_type in types:\n",
    "    params = {\n",
    "        #3 mi radius. A Zipcode is not returned in the results, so we cannot \n",
    "        #match against our zipcode without doing a reverse lookup for every result\n",
    "        \"radius\": 4828,\n",
    "        \"types\": each_type,\n",
    "        \"key\": gkey\n",
    "    }\n",
    "    \n",
    "    #variables for the specific column names for the business type we are searching\n",
    "    count_column = f\"{each_type}_count\"\n",
    "    rating_column = f\"{each_type}_rating\"\n",
    "    \n",
    "    #add columns for each type we looking up\n",
    "    zip_group_df[count_column] = \"\"\n",
    "    zip_group_df[rating_column] = \"\"\n",
    "\n",
    "\n",
    "    # Use the lat/lng we recovered to search for businesses\n",
    "    for index, row in zip_group_df.iterrows():\n",
    "\n",
    "        rating_sum = 0\n",
    "        rating_count = 0\n",
    "\n",
    "        # get lat, lng from df\n",
    "        lat = row[\"Lat\"]\n",
    "        lng = row[\"Lng\"]\n",
    "\n",
    "        # change location each iteration while leaving original params in place\n",
    "        #params[\"location\"] = f\"32.8326,-96.7976\" #testing 1 lat, lng\n",
    "        params[\"location\"] = f\"{lat},{lng}\"\n",
    "\n",
    "        #Google Places Search\n",
    "        base_url = \"https://maps.googleapis.com/maps/api/place/nearbysearch/json\"\n",
    "\n",
    "        # make request and print url\n",
    "        search_results = requests.get(base_url, params=params)\n",
    "\n",
    "        # convert to json\n",
    "        search_results = search_results.json()\n",
    "        #print(json.dumps(search_results, indent=4, sort_keys=True))\n",
    "\n",
    "        results_list = search_results['results']\n",
    "\n",
    "        #Set the business count\n",
    "        zip_group_df.loc[index, count_column] = len(results_list)\n",
    "\n",
    "        #Loop through results list to get rating for each \n",
    "        for each_result in results_list:\n",
    "            #check for KeyError since not all business have a rating\n",
    "            try:\n",
    "                #print(f'{each_result[\"name\"]}: {each_result[\"rating\"]}')\n",
    "                rating = each_result[\"rating\"]\n",
    "                rating_count += 1\n",
    "                rating_sum += rating\n",
    "            except(KeyError):\n",
    "                next\n",
    "\n",
    "        try:\n",
    "            zip_group_df.loc[index, rating_column] = rating_sum / rating_count\n",
    "        except(ZeroDivisionError):\n",
    "            zip_group_df.loc[index, rating_column] = 0"
   ]
  },
  {
   "cell_type": "code",
   "execution_count": null,
   "metadata": {},
   "outputs": [],
   "source": [
    "zip_group_df.sort_values('TOT_VAL')"
   ]
  },
  {
   "cell_type": "code",
   "execution_count": null,
   "metadata": {},
   "outputs": [],
   "source": []
  }
 ],
 "metadata": {
  "kernel_info": {
   "name": "python3"
  },
  "kernelspec": {
   "display_name": "Python 3",
   "language": "python",
   "name": "python3"
  },
  "language_info": {
   "codemirror_mode": {
    "name": "ipython",
    "version": 3
   },
   "file_extension": ".py",
   "mimetype": "text/x-python",
   "name": "python",
   "nbconvert_exporter": "python",
   "pygments_lexer": "ipython3",
   "version": "3.7.1"
  },
  "nteract": {
   "version": "0.2.0"
  }
 },
 "nbformat": 4,
 "nbformat_minor": 2
}
