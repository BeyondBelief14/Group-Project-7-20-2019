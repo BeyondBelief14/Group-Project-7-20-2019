{
 "cells": [
  {
   "cell_type": "code",
   "execution_count": 1,
   "metadata": {},
   "outputs": [
    {
     "data": {
      "text/html": [
       "<style>.container { width:95% !important; }</style>"
      ],
      "text/plain": [
       "<IPython.core.display.HTML object>"
      ]
     },
     "metadata": {},
     "output_type": "display_data"
    }
   ],
   "source": [
    "#widen display\n",
    "from IPython.core.display import display, HTML\n",
    "display(HTML(\"<style>.container { width:95% !important; }</style>\"))"
   ]
  },
  {
   "cell_type": "code",
   "execution_count": 41,
   "metadata": {},
   "outputs": [],
   "source": [
    "import pandas as pd\n",
    "import numpy as np\n",
    "import json\n",
    "import matplotlib.pyplot as plt\n",
    "import gmaps\n",
    "\n",
    "# API Keys\n",
    "from config import api_key\n",
    "\n",
    "# Configure gmaps\n",
    "gmaps.configure(api_key=api_key)"
   ]
  },
  {
   "cell_type": "code",
   "execution_count": 3,
   "metadata": {},
   "outputs": [],
   "source": [
    "# Read in the Dallas County Appraisal District (DCAD) property values file\n",
    "zip_group_file = \"Resources/zip_group_csv.csv\"\n",
    "\n",
    "#create DataFrame\n",
    "summary_by_zip_df = pd.read_csv(zip_group_file)"
   ]
  },
  {
   "cell_type": "code",
   "execution_count": 4,
   "metadata": {},
   "outputs": [
    {
     "data": {
      "text/html": [
       "<div>\n",
       "<style scoped>\n",
       "    .dataframe tbody tr th:only-of-type {\n",
       "        vertical-align: middle;\n",
       "    }\n",
       "\n",
       "    .dataframe tbody tr th {\n",
       "        vertical-align: top;\n",
       "    }\n",
       "\n",
       "    .dataframe thead th {\n",
       "        text-align: right;\n",
       "    }\n",
       "</style>\n",
       "<table border=\"1\" class=\"dataframe\">\n",
       "  <thead>\n",
       "    <tr style=\"text-align: right;\">\n",
       "      <th></th>\n",
       "      <th>Unnamed: 0</th>\n",
       "      <th>Zipcode</th>\n",
       "      <th>PropertyValueCount</th>\n",
       "      <th>MeanPropertyValue</th>\n",
       "      <th>MeanPropertyDollarValue</th>\n",
       "      <th>Lat</th>\n",
       "      <th>Lng</th>\n",
       "      <th>City</th>\n",
       "      <th>State</th>\n",
       "      <th>bank_count</th>\n",
       "      <th>bank_rating</th>\n",
       "      <th>supermarket_count</th>\n",
       "      <th>supermarket_rating</th>\n",
       "      <th>hospital_count</th>\n",
       "      <th>hospital_rating</th>\n",
       "      <th>cafe_count</th>\n",
       "      <th>cafe_rating</th>\n",
       "    </tr>\n",
       "  </thead>\n",
       "  <tbody>\n",
       "    <tr>\n",
       "      <th>0</th>\n",
       "      <td>0</td>\n",
       "      <td>75205</td>\n",
       "      <td>6415</td>\n",
       "      <td>1.606362e+06</td>\n",
       "      <td>$1,606,362</td>\n",
       "      <td>32.832584</td>\n",
       "      <td>-96.797592</td>\n",
       "      <td>Dallas</td>\n",
       "      <td>TX</td>\n",
       "      <td>41</td>\n",
       "      <td>3.595122</td>\n",
       "      <td>13</td>\n",
       "      <td>4.415385</td>\n",
       "      <td>15</td>\n",
       "      <td>3.946667</td>\n",
       "      <td>46</td>\n",
       "      <td>3.819565</td>\n",
       "    </tr>\n",
       "    <tr>\n",
       "      <th>1</th>\n",
       "      <td>1</td>\n",
       "      <td>75225</td>\n",
       "      <td>7633</td>\n",
       "      <td>1.207824e+06</td>\n",
       "      <td>$1,207,824</td>\n",
       "      <td>32.869505</td>\n",
       "      <td>-96.789557</td>\n",
       "      <td>Dallas</td>\n",
       "      <td>TX</td>\n",
       "      <td>37</td>\n",
       "      <td>3.483784</td>\n",
       "      <td>8</td>\n",
       "      <td>4.362500</td>\n",
       "      <td>5</td>\n",
       "      <td>4.160000</td>\n",
       "      <td>28</td>\n",
       "      <td>3.903571</td>\n",
       "    </tr>\n",
       "    <tr>\n",
       "      <th>2</th>\n",
       "      <td>2</td>\n",
       "      <td>75201</td>\n",
       "      <td>1326</td>\n",
       "      <td>9.667580e+05</td>\n",
       "      <td>$966,758</td>\n",
       "      <td>32.786330</td>\n",
       "      <td>-96.796253</td>\n",
       "      <td>Dallas</td>\n",
       "      <td>TX</td>\n",
       "      <td>35</td>\n",
       "      <td>3.477143</td>\n",
       "      <td>12</td>\n",
       "      <td>4.208333</td>\n",
       "      <td>14</td>\n",
       "      <td>3.714286</td>\n",
       "      <td>26</td>\n",
       "      <td>4.003846</td>\n",
       "    </tr>\n",
       "    <tr>\n",
       "      <th>3</th>\n",
       "      <td>3</td>\n",
       "      <td>75209</td>\n",
       "      <td>5424</td>\n",
       "      <td>7.230552e+05</td>\n",
       "      <td>$723,055</td>\n",
       "      <td>32.853872</td>\n",
       "      <td>-96.819022</td>\n",
       "      <td>Dallas</td>\n",
       "      <td>TX</td>\n",
       "      <td>35</td>\n",
       "      <td>3.482857</td>\n",
       "      <td>11</td>\n",
       "      <td>4.172727</td>\n",
       "      <td>9</td>\n",
       "      <td>4.111111</td>\n",
       "      <td>33</td>\n",
       "      <td>3.960606</td>\n",
       "    </tr>\n",
       "    <tr>\n",
       "      <th>4</th>\n",
       "      <td>4</td>\n",
       "      <td>75230</td>\n",
       "      <td>9337</td>\n",
       "      <td>7.046378e+05</td>\n",
       "      <td>$704,638</td>\n",
       "      <td>32.900512</td>\n",
       "      <td>-96.786879</td>\n",
       "      <td>Dallas</td>\n",
       "      <td>TX</td>\n",
       "      <td>40</td>\n",
       "      <td>3.372500</td>\n",
       "      <td>6</td>\n",
       "      <td>4.166667</td>\n",
       "      <td>14</td>\n",
       "      <td>3.628571</td>\n",
       "      <td>21</td>\n",
       "      <td>4.071429</td>\n",
       "    </tr>\n",
       "  </tbody>\n",
       "</table>\n",
       "</div>"
      ],
      "text/plain": [
       "   Unnamed: 0  Zipcode  PropertyValueCount  MeanPropertyValue  \\\n",
       "0           0    75205                6415       1.606362e+06   \n",
       "1           1    75225                7633       1.207824e+06   \n",
       "2           2    75201                1326       9.667580e+05   \n",
       "3           3    75209                5424       7.230552e+05   \n",
       "4           4    75230                9337       7.046378e+05   \n",
       "\n",
       "  MeanPropertyDollarValue        Lat        Lng    City State  bank_count  \\\n",
       "0              $1,606,362  32.832584 -96.797592  Dallas    TX          41   \n",
       "1              $1,207,824  32.869505 -96.789557  Dallas    TX          37   \n",
       "2                $966,758  32.786330 -96.796253  Dallas    TX          35   \n",
       "3                $723,055  32.853872 -96.819022  Dallas    TX          35   \n",
       "4                $704,638  32.900512 -96.786879  Dallas    TX          40   \n",
       "\n",
       "   bank_rating  supermarket_count  supermarket_rating  hospital_count  \\\n",
       "0     3.595122                 13            4.415385              15   \n",
       "1     3.483784                  8            4.362500               5   \n",
       "2     3.477143                 12            4.208333              14   \n",
       "3     3.482857                 11            4.172727               9   \n",
       "4     3.372500                  6            4.166667              14   \n",
       "\n",
       "   hospital_rating  cafe_count  cafe_rating  \n",
       "0         3.946667          46     3.819565  \n",
       "1         4.160000          28     3.903571  \n",
       "2         3.714286          26     4.003846  \n",
       "3         4.111111          33     3.960606  \n",
       "4         3.628571          21     4.071429  "
      ]
     },
     "execution_count": 4,
     "metadata": {},
     "output_type": "execute_result"
    }
   ],
   "source": [
    "#focus on zipcodes with more than 500 properties\n",
    "summary_by_zip_df = summary_by_zip_df[summary_by_zip_df.PropertyValueCount >= 500]\n",
    "\n",
    "summary_by_zip_df.head()"
   ]
  },
  {
   "cell_type": "code",
   "execution_count": 112,
   "metadata": {},
   "outputs": [
    {
     "data": {
      "text/html": [
       "<div>\n",
       "<style scoped>\n",
       "    .dataframe tbody tr th:only-of-type {\n",
       "        vertical-align: middle;\n",
       "    }\n",
       "\n",
       "    .dataframe tbody tr th {\n",
       "        vertical-align: top;\n",
       "    }\n",
       "\n",
       "    .dataframe thead th {\n",
       "        text-align: right;\n",
       "    }\n",
       "</style>\n",
       "<table border=\"1\" class=\"dataframe\">\n",
       "  <thead>\n",
       "    <tr style=\"text-align: right;\">\n",
       "      <th></th>\n",
       "      <th>City</th>\n",
       "      <th>PropertyValueCount</th>\n",
       "      <th>MeanPropertyValue</th>\n",
       "    </tr>\n",
       "  </thead>\n",
       "  <tbody>\n",
       "    <tr>\n",
       "      <th>0</th>\n",
       "      <td>Coppell</td>\n",
       "      <td>4.157977e+05</td>\n",
       "      <td>415797.678477</td>\n",
       "    </tr>\n",
       "    <tr>\n",
       "      <th>1</th>\n",
       "      <td>Dallas</td>\n",
       "      <td>1.355087e+07</td>\n",
       "      <td>330509.000544</td>\n",
       "    </tr>\n",
       "    <tr>\n",
       "      <th>2</th>\n",
       "      <td>Addison</td>\n",
       "      <td>3.152085e+05</td>\n",
       "      <td>315208.491704</td>\n",
       "    </tr>\n",
       "    <tr>\n",
       "      <th>3</th>\n",
       "      <td>Irving</td>\n",
       "      <td>1.651716e+06</td>\n",
       "      <td>275286.033266</td>\n",
       "    </tr>\n",
       "    <tr>\n",
       "      <th>4</th>\n",
       "      <td>Richardson</td>\n",
       "      <td>8.184734e+05</td>\n",
       "      <td>272824.467602</td>\n",
       "    </tr>\n",
       "  </tbody>\n",
       "</table>\n",
       "</div>"
      ],
      "text/plain": [
       "         City  PropertyValueCount  MeanPropertyValue\n",
       "0     Coppell        4.157977e+05      415797.678477\n",
       "1      Dallas        1.355087e+07      330509.000544\n",
       "2     Addison        3.152085e+05      315208.491704\n",
       "3      Irving        1.651716e+06      275286.033266\n",
       "4  Richardson        8.184734e+05      272824.467602"
      ]
     },
     "execution_count": 112,
     "metadata": {},
     "output_type": "execute_result"
    }
   ],
   "source": [
    "#Group Property Values by Zipcode\n",
    "city_group = summary_by_zip_df.groupby('City')['MeanPropertyValue'].agg(('sum', 'mean'))\\\n",
    "                    .rename(columns={'sum':'PropertyValueCount', 'mean':'MeanPropertyValue'})\\\n",
    "                    .sort_values(by='MeanPropertyValue', ascending=False)\\\n",
    "                    .reset_index()\n",
    "city_group.head()"
   ]
  },
  {
   "cell_type": "code",
   "execution_count": 137,
   "metadata": {},
   "outputs": [
    {
     "data": {
      "text/plain": [
       "Text(0, 0.5, 'Average Proprty Value')"
      ]
     },
     "execution_count": 137,
     "metadata": {},
     "output_type": "execute_result"
    },
    {
     "data": {
      "image/png": "[encoded data removed]",
      "text/plain": [
       "<Figure size 1800x432 with 1 Axes>"
      ]
     },
     "metadata": {
      "needs_background": "light"
     },
     "output_type": "display_data"
    }
   ],
   "source": [
    "# Set x axis and tick locations\n",
    "x_axis = np.arange(len(city_group))\n",
    "tick_locations = [value+0.35 for value in x_axis]\n",
    "\n",
    "# Create a list indicating where to write x labels and set figure size to adjust for space\n",
    "plt.figure(figsize=(25,6))\n",
    "plt.bar(x_axis, city_group[\"MeanPropertyValue\"], color='navy', alpha=0.75, align=\"edge\")\n",
    "plt.xticks(tick_locations, city_group[\"City\"], rotation=\"vertical\")\n",
    "\n",
    "# Set x and y limits\n",
    "plt.xlim(-0.25, len(x_axis))\n",
    "plt.ylim(0, max(city_group[\"MeanPropertyValue\"])*1.1)\n",
    "\n",
    "# Set a Title and labels\n",
    "plt.title(\"Average Value by City\")\n",
    "plt.xlabel(\"City\")\n",
    "plt.ylabel(\"Average Proprty Value\")"
   ]
  },
  {
   "cell_type": "code",
   "execution_count": 5,
   "metadata": {},
   "outputs": [
    {
     "data": {
      "text/html": [
       "<div>\n",
       "<style scoped>\n",
       "    .dataframe tbody tr th:only-of-type {\n",
       "        vertical-align: middle;\n",
       "    }\n",
       "\n",
       "    .dataframe tbody tr th {\n",
       "        vertical-align: top;\n",
       "    }\n",
       "\n",
       "    .dataframe thead th {\n",
       "        text-align: right;\n",
       "    }\n",
       "</style>\n",
       "<table border=\"1\" class=\"dataframe\">\n",
       "  <thead>\n",
       "    <tr style=\"text-align: right;\">\n",
       "      <th></th>\n",
       "      <th>Unnamed: 0</th>\n",
       "      <th>Zipcode</th>\n",
       "      <th>PropertyValueCount</th>\n",
       "      <th>MeanPropertyValue</th>\n",
       "      <th>MeanPropertyDollarValue</th>\n",
       "      <th>Lat</th>\n",
       "      <th>Lng</th>\n",
       "      <th>City</th>\n",
       "      <th>State</th>\n",
       "      <th>bank_count</th>\n",
       "      <th>bank_rating</th>\n",
       "      <th>supermarket_count</th>\n",
       "      <th>supermarket_rating</th>\n",
       "      <th>hospital_count</th>\n",
       "      <th>hospital_rating</th>\n",
       "      <th>cafe_count</th>\n",
       "      <th>cafe_rating</th>\n",
       "    </tr>\n",
       "  </thead>\n",
       "  <tbody>\n",
       "    <tr>\n",
       "      <th>0</th>\n",
       "      <td>0</td>\n",
       "      <td>75205</td>\n",
       "      <td>6415</td>\n",
       "      <td>1.606362e+06</td>\n",
       "      <td>$1,606,362</td>\n",
       "      <td>32.832584</td>\n",
       "      <td>-96.797592</td>\n",
       "      <td>Dallas</td>\n",
       "      <td>TX</td>\n",
       "      <td>41</td>\n",
       "      <td>3.595122</td>\n",
       "      <td>13</td>\n",
       "      <td>4.415385</td>\n",
       "      <td>15</td>\n",
       "      <td>3.946667</td>\n",
       "      <td>46</td>\n",
       "      <td>3.819565</td>\n",
       "    </tr>\n",
       "    <tr>\n",
       "      <th>1</th>\n",
       "      <td>1</td>\n",
       "      <td>75225</td>\n",
       "      <td>7633</td>\n",
       "      <td>1.207824e+06</td>\n",
       "      <td>$1,207,824</td>\n",
       "      <td>32.869505</td>\n",
       "      <td>-96.789557</td>\n",
       "      <td>Dallas</td>\n",
       "      <td>TX</td>\n",
       "      <td>37</td>\n",
       "      <td>3.483784</td>\n",
       "      <td>8</td>\n",
       "      <td>4.362500</td>\n",
       "      <td>5</td>\n",
       "      <td>4.160000</td>\n",
       "      <td>28</td>\n",
       "      <td>3.903571</td>\n",
       "    </tr>\n",
       "    <tr>\n",
       "      <th>2</th>\n",
       "      <td>2</td>\n",
       "      <td>75201</td>\n",
       "      <td>1326</td>\n",
       "      <td>9.667580e+05</td>\n",
       "      <td>$966,758</td>\n",
       "      <td>32.786330</td>\n",
       "      <td>-96.796253</td>\n",
       "      <td>Dallas</td>\n",
       "      <td>TX</td>\n",
       "      <td>35</td>\n",
       "      <td>3.477143</td>\n",
       "      <td>12</td>\n",
       "      <td>4.208333</td>\n",
       "      <td>14</td>\n",
       "      <td>3.714286</td>\n",
       "      <td>26</td>\n",
       "      <td>4.003846</td>\n",
       "    </tr>\n",
       "    <tr>\n",
       "      <th>3</th>\n",
       "      <td>3</td>\n",
       "      <td>75209</td>\n",
       "      <td>5424</td>\n",
       "      <td>7.230552e+05</td>\n",
       "      <td>$723,055</td>\n",
       "      <td>32.853872</td>\n",
       "      <td>-96.819022</td>\n",
       "      <td>Dallas</td>\n",
       "      <td>TX</td>\n",
       "      <td>35</td>\n",
       "      <td>3.482857</td>\n",
       "      <td>11</td>\n",
       "      <td>4.172727</td>\n",
       "      <td>9</td>\n",
       "      <td>4.111111</td>\n",
       "      <td>33</td>\n",
       "      <td>3.960606</td>\n",
       "    </tr>\n",
       "    <tr>\n",
       "      <th>4</th>\n",
       "      <td>4</td>\n",
       "      <td>75230</td>\n",
       "      <td>9337</td>\n",
       "      <td>7.046378e+05</td>\n",
       "      <td>$704,638</td>\n",
       "      <td>32.900512</td>\n",
       "      <td>-96.786879</td>\n",
       "      <td>Dallas</td>\n",
       "      <td>TX</td>\n",
       "      <td>40</td>\n",
       "      <td>3.372500</td>\n",
       "      <td>6</td>\n",
       "      <td>4.166667</td>\n",
       "      <td>14</td>\n",
       "      <td>3.628571</td>\n",
       "      <td>21</td>\n",
       "      <td>4.071429</td>\n",
       "    </tr>\n",
       "    <tr>\n",
       "      <th>83</th>\n",
       "      <td>83</td>\n",
       "      <td>75203</td>\n",
       "      <td>2802</td>\n",
       "      <td>7.551809e+04</td>\n",
       "      <td>$75,518</td>\n",
       "      <td>32.743300</td>\n",
       "      <td>-96.786879</td>\n",
       "      <td>Dallas</td>\n",
       "      <td>TX</td>\n",
       "      <td>20</td>\n",
       "      <td>3.295000</td>\n",
       "      <td>8</td>\n",
       "      <td>3.912500</td>\n",
       "      <td>1</td>\n",
       "      <td>3.200000</td>\n",
       "      <td>6</td>\n",
       "      <td>3.983333</td>\n",
       "    </tr>\n",
       "    <tr>\n",
       "      <th>84</th>\n",
       "      <td>84</td>\n",
       "      <td>75172</td>\n",
       "      <td>881</td>\n",
       "      <td>6.372479e+04</td>\n",
       "      <td>$63,725</td>\n",
       "      <td>32.602835</td>\n",
       "      <td>-96.679851</td>\n",
       "      <td>Wilmer</td>\n",
       "      <td>TX</td>\n",
       "      <td>0</td>\n",
       "      <td>NaN</td>\n",
       "      <td>0</td>\n",
       "      <td>NaN</td>\n",
       "      <td>0</td>\n",
       "      <td>NaN</td>\n",
       "      <td>0</td>\n",
       "      <td>NaN</td>\n",
       "    </tr>\n",
       "    <tr>\n",
       "      <th>85</th>\n",
       "      <td>85</td>\n",
       "      <td>75216</td>\n",
       "      <td>14850</td>\n",
       "      <td>5.710002e+04</td>\n",
       "      <td>$57,100</td>\n",
       "      <td>32.703088</td>\n",
       "      <td>-96.802949</td>\n",
       "      <td>Dallas</td>\n",
       "      <td>TX</td>\n",
       "      <td>13</td>\n",
       "      <td>2.807692</td>\n",
       "      <td>5</td>\n",
       "      <td>3.860000</td>\n",
       "      <td>1</td>\n",
       "      <td>3.400000</td>\n",
       "      <td>0</td>\n",
       "      <td>NaN</td>\n",
       "    </tr>\n",
       "    <tr>\n",
       "      <th>86</th>\n",
       "      <td>86</td>\n",
       "      <td>75215</td>\n",
       "      <td>4430</td>\n",
       "      <td>5.304015e+04</td>\n",
       "      <td>$53,040</td>\n",
       "      <td>32.755695</td>\n",
       "      <td>-96.765460</td>\n",
       "      <td>Dallas</td>\n",
       "      <td>TX</td>\n",
       "      <td>19</td>\n",
       "      <td>3.542105</td>\n",
       "      <td>5</td>\n",
       "      <td>3.940000</td>\n",
       "      <td>8</td>\n",
       "      <td>3.837500</td>\n",
       "      <td>13</td>\n",
       "      <td>4.046154</td>\n",
       "    </tr>\n",
       "    <tr>\n",
       "      <th>90</th>\n",
       "      <td>90</td>\n",
       "      <td>75210</td>\n",
       "      <td>1681</td>\n",
       "      <td>3.301014e+04</td>\n",
       "      <td>$33,010</td>\n",
       "      <td>32.765421</td>\n",
       "      <td>-96.741371</td>\n",
       "      <td>Dallas</td>\n",
       "      <td>TX</td>\n",
       "      <td>6</td>\n",
       "      <td>2.983333</td>\n",
       "      <td>4</td>\n",
       "      <td>3.975000</td>\n",
       "      <td>8</td>\n",
       "      <td>3.837500</td>\n",
       "      <td>5</td>\n",
       "      <td>3.440000</td>\n",
       "    </tr>\n",
       "  </tbody>\n",
       "</table>\n",
       "</div>"
      ],
      "text/plain": [
       "    Unnamed: 0  Zipcode  PropertyValueCount  MeanPropertyValue  \\\n",
       "0            0    75205                6415       1.606362e+06   \n",
       "1            1    75225                7633       1.207824e+06   \n",
       "2            2    75201                1326       9.667580e+05   \n",
       "3            3    75209                5424       7.230552e+05   \n",
       "4            4    75230                9337       7.046378e+05   \n",
       "83          83    75203                2802       7.551809e+04   \n",
       "84          84    75172                 881       6.372479e+04   \n",
       "85          85    75216               14850       5.710002e+04   \n",
       "86          86    75215                4430       5.304015e+04   \n",
       "90          90    75210                1681       3.301014e+04   \n",
       "\n",
       "   MeanPropertyDollarValue        Lat        Lng    City State  bank_count  \\\n",
       "0               $1,606,362  32.832584 -96.797592  Dallas    TX          41   \n",
       "1               $1,207,824  32.869505 -96.789557  Dallas    TX          37   \n",
       "2                 $966,758  32.786330 -96.796253  Dallas    TX          35   \n",
       "3                 $723,055  32.853872 -96.819022  Dallas    TX          35   \n",
       "4                 $704,638  32.900512 -96.786879  Dallas    TX          40   \n",
       "83                 $75,518  32.743300 -96.786879  Dallas    TX          20   \n",
       "84                 $63,725  32.602835 -96.679851  Wilmer    TX           0   \n",
       "85                 $57,100  32.703088 -96.802949  Dallas    TX          13   \n",
       "86                 $53,040  32.755695 -96.765460  Dallas    TX          19   \n",
       "90                 $33,010  32.765421 -96.741371  Dallas    TX           6   \n",
       "\n",
       "    bank_rating  supermarket_count  supermarket_rating  hospital_count  \\\n",
       "0      3.595122                 13            4.415385              15   \n",
       "1      3.483784                  8            4.362500               5   \n",
       "2      3.477143                 12            4.208333              14   \n",
       "3      3.482857                 11            4.172727               9   \n",
       "4      3.372500                  6            4.166667              14   \n",
       "83     3.295000                  8            3.912500               1   \n",
       "84          NaN                  0                 NaN               0   \n",
       "85     2.807692                  5            3.860000               1   \n",
       "86     3.542105                  5            3.940000               8   \n",
       "90     2.983333                  4            3.975000               8   \n",
       "\n",
       "    hospital_rating  cafe_count  cafe_rating  \n",
       "0          3.946667          46     3.819565  \n",
       "1          4.160000          28     3.903571  \n",
       "2          3.714286          26     4.003846  \n",
       "3          4.111111          33     3.960606  \n",
       "4          3.628571          21     4.071429  \n",
       "83         3.200000           6     3.983333  \n",
       "84              NaN           0          NaN  \n",
       "85         3.400000           0          NaN  \n",
       "86         3.837500          13     4.046154  \n",
       "90         3.837500           5     3.440000  "
      ]
     },
     "execution_count": 5,
     "metadata": {},
     "output_type": "execute_result"
    }
   ],
   "source": [
    "#Get 5 Zipcodes with highest values\n",
    "zip_group_top = summary_by_zip_df.head(5)\n",
    "\n",
    "#Get 5 Zipcodes with lowest values\n",
    "zip_group_bottom = summary_by_zip_df.tail(5)\n",
    "\n",
    "zip_group_top_and_bottom = zip_group_top.append(zip_group_bottom)\n",
    "zip_group_top_and_bottom"
   ]
  },
  {
   "cell_type": "code",
   "execution_count": 6,
   "metadata": {},
   "outputs": [],
   "source": [
    "# Store latitude and longitude in locations\n",
    "top_zip_locations_to_map = list(zip(zip_group_top_and_bottom.head()['Lat'], zip_group_top_and_bottom.head()['Lng']))\n",
    "bottom_zip_locations_to_map = list(zip(zip_group_top_and_bottom.tail()['Lat'], zip_group_top_and_bottom.tail()['Lng']))"
   ]
  },
  {
   "cell_type": "code",
   "execution_count": 86,
   "metadata": {},
   "outputs": [],
   "source": [
    "# Customize the size of the figure\n",
    "figure_layout = {\n",
    "    'height': '840px',\n",
    "    'border': '1px solid black',\n",
    "    'padding': '1px',\n",
    "    'margin': '0 auto 0 auto'\n",
    "}"
   ]
  },
  {
   "cell_type": "code",
   "execution_count": 107,
   "metadata": {},
   "outputs": [
    {
     "data": {
      "application/vnd.jupyter.widget-view+json": {
       "model_id": "e515d923a4d04835995441106b094064",
       "version_major": 2,
       "version_minor": 0
      },
      "text/plain": [
       "Figure(layout=FigureLayout(border='1px solid black', height='840px', margin='0 auto 0 auto', padding='1px'))"
      ]
     },
     "metadata": {},
     "output_type": "display_data"
    }
   ],
   "source": [
    "gmaps.configure(api_key=api_key)\n",
    "dallas_county_coordinates = (32.7500, -96.7800)\n",
    "\n",
    "with open('Resources/Dallas_County.geojson') as f:\n",
    "    geometry = json.load(f)\n",
    "\n",
    "fig = gmaps.figure(layout=figure_layout, center=dallas_county_coordinates, zoom_level=10)\n",
    "geojson_layer = gmaps.geojson_layer(geometry, fill_opacity=0.03, fill_color='blue')\n",
    "fig.add_layer(geojson_layer)\n",
    "\n",
    "# Assign the symbols layer to a variable\n",
    "symbols_top = gmaps.symbol_layer(\n",
    "        top_zip_locations_to_map, fill_color='navy', stroke_color='navy', hover_text='Top', scale=6)\n",
    "symbols_bottom = gmaps.symbol_layer(\n",
    "        bottom_zip_locations_to_map, fill_color='#f5bc42', stroke_color='#f5bc42', scale = 6)\n",
    "\n",
    "# Add the layer to the map\n",
    "fig.add_layer(symbols_top)\n",
    "fig.add_layer(symbols_bottom)\n",
    "fig"
   ]
  },
  {
   "cell_type": "code",
   "execution_count": 172,
   "metadata": {},
   "outputs": [
    {
     "data": {
      "text/plain": [
       "Text(0, 0.5, 'Property Values ($)')"
      ]
     },
     "execution_count": 172,
     "metadata": {},
     "output_type": "execute_result"
    },
    {
     "data": {
      "image/png": "[encoded data removed]",
      "text/plain": [
       "<Figure size 432x288 with 1 Axes>"
      ]
     },
     "metadata": {
      "needs_background": "light"
     },
     "output_type": "display_data"
    }
   ],
   "source": [
    "value = zip_group_top['MeanPropertyValue']\n",
    "value2 = zip_group_bottom['MeanPropertyValue']\n",
    "fig, ax = plt.subplots()\n",
    "index = np.arange(len(zip_group_top))\n",
    "index2 = np.arange(len(zip_group_bottom))\n",
    "opacity=.75\n",
    "bar_width = 0.4\n",
    "rects1 = plt.bar(index, value, bar_width, alpha=opacity, color='navy', label='Top 5')\n",
    "rects2 = plt.bar(index2 + bar_width, value2, bar_width, alpha=opacity, color='orange', label='Bottom 5')\n",
    "plt.legend()\n",
    "plt.title(\"Zipcodes with 5 Highest and 5 Lowest Property Values\")\n",
    "plt.xticks(index, zip_group_top[\"Zipcode\"], rotation=\"vertical\")\n",
    "plt.xticks(index2 +bar_width, zip_group_bottom[\"Zipcode\"], rotation=\"vertical\")\n",
    "plt.xlabel('Zipcodes')\n",
    "plt.ylabel(\"Property Values ($)\")"
   ]
  },
  {
   "cell_type": "code",
   "execution_count": 35,
   "metadata": {},
   "outputs": [
    {
     "data": {
      "text/plain": [
       "0.5510588608040583"
      ]
     },
     "execution_count": 35,
     "metadata": {},
     "output_type": "execute_result"
    }
   ],
   "source": [
    "summary_by_zip_df['bank_count'].corr(summary_by_zip_df['MeanPropertyValue'])"
   ]
  },
  {
   "cell_type": "code",
   "execution_count": 36,
   "metadata": {},
   "outputs": [
    {
     "data": {
      "text/plain": [
       "0.39574748299039"
      ]
     },
     "execution_count": 36,
     "metadata": {},
     "output_type": "execute_result"
    }
   ],
   "source": [
    "summary_by_zip_df['supermarket_count'].corr(summary_by_zip_df['MeanPropertyValue'])"
   ]
  },
  {
   "cell_type": "code",
   "execution_count": 37,
   "metadata": {},
   "outputs": [
    {
     "data": {
      "text/plain": [
       "0.40783057310474846"
      ]
     },
     "execution_count": 37,
     "metadata": {},
     "output_type": "execute_result"
    }
   ],
   "source": [
    "summary_by_zip_df['hospital_count'].corr(summary_by_zip_df['MeanPropertyValue'])"
   ]
  },
  {
   "cell_type": "code",
   "execution_count": 38,
   "metadata": {},
   "outputs": [
    {
     "data": {
      "text/plain": [
       "0.6913339695137416"
      ]
     },
     "execution_count": 38,
     "metadata": {},
     "output_type": "execute_result"
    }
   ],
   "source": [
    "summary_by_zip_df['cafe_count'].corr(summary_by_zip_df['MeanPropertyValue'])"
   ]
  },
  {
   "cell_type": "code",
   "execution_count": null,
   "metadata": {},
   "outputs": [],
   "source": []
  }
 ],
 "metadata": {
  "kernel_info": {
   "name": "python3"
  },
  "kernelspec": {
   "display_name": "Python 3",
   "language": "python",
   "name": "python3"
  },
  "language_info": {
   "codemirror_mode": {
    "name": "ipython",
    "version": 3
   },
   "file_extension": ".py",
   "mimetype": "text/x-python",
   "name": "python",
   "nbconvert_exporter": "python",
   "pygments_lexer": "ipython3",
   "version": "3.7.1"
  },
  "nteract": {
   "version": "0.2.0"
  }
 },
 "nbformat": 4,
 "nbformat_minor": 2
}
